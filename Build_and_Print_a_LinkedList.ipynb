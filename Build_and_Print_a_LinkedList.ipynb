{
  "nbformat": 4,
  "nbformat_minor": 0,
  "metadata": {
    "colab": {
      "provenance": [],
      "authorship_tag": "ABX9TyMPaLOtePIzDV7itZK5WlP1",
      "include_colab_link": true
    },
    "kernelspec": {
      "name": "python3",
      "display_name": "Python 3"
    },
    "language_info": {
      "name": "python"
    }
  },
  "cells": [
    {
      "cell_type": "markdown",
      "metadata": {
        "id": "view-in-github",
        "colab_type": "text"
      },
      "source": [
        "<a href=\"https://colab.research.google.com/github/afzal/Python_IMPO/blob/main/Build_and_Print_a_LinkedList.ipynb\" target=\"_parent\"><img src=\"https://colab.research.google.com/assets/colab-badge.svg\" alt=\"Open In Colab\"/></a>"
      ]
    },
    {
      "cell_type": "markdown",
      "source": [
        "**Make and print a linked list**"
      ],
      "metadata": {
        "id": "UJfhbecq4gNK"
      }
    },
    {
      "cell_type": "code",
      "execution_count": null,
      "metadata": {
        "id": "TMc6jSA_v01M"
      },
      "outputs": [],
      "source": [
        "class Node:\n",
        "  def __init__(self,val=0):\n",
        "    self.val = val\n",
        "    self.next = None\n",
        "\n",
        "\n"
      ]
    },
    {
      "cell_type": "code",
      "source": [
        "def build_Linked_List(array):\n",
        "  head = Node(array[0])\n",
        "  current = head\n",
        "  for value in array[1:]:\n",
        "    current.next = Node(value)\n",
        "    current = current.next\n",
        "  return head"
      ],
      "metadata": {
        "id": "YYnMp-rLx3r3"
      },
      "execution_count": null,
      "outputs": []
    },
    {
      "cell_type": "code",
      "source": [
        "def print_linked_list(node):\n",
        "  while node:\n",
        "    print(node.val, end=\"->\")\n",
        "    node = node.next\n",
        "  print(\"None\")"
      ],
      "metadata": {
        "id": "NB2mvH4RzCcI"
      },
      "execution_count": null,
      "outputs": []
    },
    {
      "cell_type": "code",
      "source": [
        "linked_list = build_Linked_List([2,4,6,8])"
      ],
      "metadata": {
        "id": "-ssDaYd_wmWK"
      },
      "execution_count": null,
      "outputs": []
    },
    {
      "cell_type": "code",
      "source": [
        "print_linked_list(linked_list)"
      ],
      "metadata": {
        "colab": {
          "base_uri": "https://localhost:8080/"
        },
        "id": "CUNp2qIixp6J",
        "outputId": "2190ee43-7943-4876-e97e-838df75d2bb2"
      },
      "execution_count": null,
      "outputs": [
        {
          "output_type": "stream",
          "name": "stdout",
          "text": [
            "2->4->6->8->None\n"
          ]
        }
      ]
    },
    {
      "cell_type": "markdown",
      "source": [
        "| Operation      | Time Complexity | Space Complexity |\n",
        "| -------------- | --------------- | ---------------- |\n",
        "| **Build List** | O(n)            | O(n)             |\n",
        "| **Print List** | O(n)            | O(1)             |\n"
      ],
      "metadata": {
        "id": "HluRrFow6MG1"
      }
    },
    {
      "cell_type": "code",
      "source": [
        "class ListNode:\n",
        "    def __init__(self, val=0, next=None):\n",
        "        self.val = val\n",
        "        self.next = next"
      ],
      "metadata": {
        "id": "6MSBetKy4jFh"
      },
      "execution_count": 1,
      "outputs": []
    },
    {
      "cell_type": "code",
      "source": [
        "head = ListNode(1)\n",
        "head.next = ListNode(2)\n",
        "head.next.next = ListNode(3)"
      ],
      "metadata": {
        "id": "jvwdl_Q0K_k9"
      },
      "execution_count": 3,
      "outputs": []
    },
    {
      "cell_type": "code",
      "source": [
        "head.next.val"
      ],
      "metadata": {
        "id": "uksbI9fELFB1",
        "outputId": "9f0e481c-402c-475e-fadf-bc1bbbce77a8",
        "colab": {
          "base_uri": "https://localhost:8080/"
        }
      },
      "execution_count": 7,
      "outputs": [
        {
          "output_type": "execute_result",
          "data": {
            "text/plain": [
              "2"
            ]
          },
          "metadata": {},
          "execution_count": 7
        }
      ]
    }
  ]
}