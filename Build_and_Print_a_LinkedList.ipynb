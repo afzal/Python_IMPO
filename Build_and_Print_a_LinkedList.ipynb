{
  "nbformat": 4,
  "nbformat_minor": 0,
  "metadata": {
    "colab": {
      "provenance": [],
      "authorship_tag": "ABX9TyNrHESkqxX8hKKeh1LaWnf0",
      "include_colab_link": true
    },
    "kernelspec": {
      "name": "python3",
      "display_name": "Python 3"
    },
    "language_info": {
      "name": "python"
    }
  },
  "cells": [
    {
      "cell_type": "markdown",
      "metadata": {
        "id": "view-in-github",
        "colab_type": "text"
      },
      "source": [
        "<a href=\"https://colab.research.google.com/github/afzal/Python_IMPO/blob/main/Build_and_Print_a_LinkedList.ipynb\" target=\"_parent\"><img src=\"https://colab.research.google.com/assets/colab-badge.svg\" alt=\"Open In Colab\"/></a>"
      ]
    },
    {
      "cell_type": "markdown",
      "source": [
        "**Make and print a linked list**"
      ],
      "metadata": {
        "id": "UJfhbecq4gNK"
      }
    },
    {
      "cell_type": "code",
      "execution_count": null,
      "metadata": {
        "id": "TMc6jSA_v01M"
      },
      "outputs": [],
      "source": [
        "class Node:\n",
        "  def __init__(self,val=0):\n",
        "    self.val = val\n",
        "    self.next = None\n",
        "\n",
        "\n"
      ]
    },
    {
      "cell_type": "code",
      "source": [
        "def build_Linked_List(array):\n",
        "  head = Node(array[0])\n",
        "  current = head\n",
        "  for value in array[1:]:\n",
        "    current.next = Node(value)\n",
        "    current = current.next\n",
        "  return head"
      ],
      "metadata": {
        "id": "YYnMp-rLx3r3"
      },
      "execution_count": null,
      "outputs": []
    },
    {
      "cell_type": "code",
      "source": [
        "def print_linked_list(node):\n",
        "  while node:\n",
        "    print(node.val, end=\"->\")\n",
        "    node = node.next\n",
        "  print(\"None\")"
      ],
      "metadata": {
        "id": "NB2mvH4RzCcI"
      },
      "execution_count": null,
      "outputs": []
    },
    {
      "cell_type": "code",
      "source": [
        "linked_list = build_Linked_List([2,4,6,8])"
      ],
      "metadata": {
        "id": "-ssDaYd_wmWK"
      },
      "execution_count": null,
      "outputs": []
    },
    {
      "cell_type": "code",
      "source": [
        "print_linked_list(linked_list)"
      ],
      "metadata": {
        "colab": {
          "base_uri": "https://localhost:8080/"
        },
        "id": "CUNp2qIixp6J",
        "outputId": "2190ee43-7943-4876-e97e-838df75d2bb2"
      },
      "execution_count": null,
      "outputs": [
        {
          "output_type": "stream",
          "name": "stdout",
          "text": [
            "2->4->6->8->None\n"
          ]
        }
      ]
    },
    {
      "cell_type": "markdown",
      "source": [
        "| Operation      | Time Complexity | Space Complexity |\n",
        "| -------------- | --------------- | ---------------- |\n",
        "| **Build List** | O(n)            | O(n)             |\n",
        "| **Print List** | O(n)            | O(1)             |\n"
      ],
      "metadata": {
        "id": "HluRrFow6MG1"
      }
    },
    {
      "cell_type": "code",
      "source": [
        "class ListNode:\n",
        "    def __init__(self, val=0, next=None):\n",
        "        self.val = val\n",
        "        self.next = next"
      ],
      "metadata": {
        "id": "6MSBetKy4jFh"
      },
      "execution_count": 1,
      "outputs": []
    },
    {
      "cell_type": "code",
      "source": [
        "head = ListNode(1)\n",
        "head.next = ListNode(2)\n",
        "head.next.next = ListNode(3)"
      ],
      "metadata": {
        "id": "jvwdl_Q0K_k9"
      },
      "execution_count": 3,
      "outputs": []
    },
    {
      "cell_type": "code",
      "source": [
        "head.next.val"
      ],
      "metadata": {
        "colab": {
          "base_uri": "https://localhost:8080/"
        },
        "id": "uksbI9fELFB1",
        "outputId": "9f0e481c-402c-475e-fadf-bc1bbbce77a8"
      },
      "execution_count": 7,
      "outputs": [
        {
          "output_type": "execute_result",
          "data": {
            "text/plain": [
              "2"
            ]
          },
          "metadata": {},
          "execution_count": 7
        }
      ]
    },
    {
      "cell_type": "code",
      "source": [
        "class TreeNode:\n",
        "  def __init__(self, val=0, left=None, right=None):\n",
        "    self.val = val\n",
        "    self.left = left\n",
        "    self.right = right"
      ],
      "metadata": {
        "id": "1Nh7NVDQLVI-"
      },
      "execution_count": 10,
      "outputs": []
    },
    {
      "cell_type": "code",
      "source": [
        "root = TreeNode(22)\n",
        "root.left = TreeNode(7)\n",
        "root.right = TreeNode(5)\n",
        "root.left.left = TreeNode(1)\n",
        "root.left.right = TreeNode(3)\n",
        "root.right.right = TreeNode(9)\n"
      ],
      "metadata": {
        "id": "-5fhEARXLz3s"
      },
      "execution_count": 17,
      "outputs": []
    },
    {
      "cell_type": "markdown",
      "source": [
        "        22\n",
        "       /  \\\n",
        "      7    5\n",
        "     / \\    \\\n",
        "    1   3    9\n"
      ],
      "metadata": {
        "id": "H-2NlJ-vPYCJ"
      }
    },
    {
      "cell_type": "code",
      "source": [
        "def print_TreeNodes(node):\n",
        "  if not node:\n",
        "        return\n",
        "  print(node.val)\n",
        "  print_TreeNodes(node.left)\n",
        "  print_TreeNodes(node.right)\n",
        ""
      ],
      "metadata": {
        "id": "ySOULmyHL9e4"
      },
      "execution_count": 16,
      "outputs": []
    },
    {
      "cell_type": "code",
      "source": [
        "print_TreeNodes(root)"
      ],
      "metadata": {
        "colab": {
          "base_uri": "https://localhost:8080/"
        },
        "id": "EHxH3EWfOTtk",
        "outputId": "bb95ebd2-ceae-4dd3-965a-ec2fd3026475"
      },
      "execution_count": 15,
      "outputs": [
        {
          "output_type": "stream",
          "name": "stdout",
          "text": [
            "22\n",
            "7\n",
            "1\n",
            "3\n",
            "5\n",
            "9\n"
          ]
        }
      ]
    },
    {
      "cell_type": "markdown",
      "source": [
        "| Method                | Time Complexity | Space Complexity        | Notes                                    |\n",
        "| --------------------- | --------------- | ----------------------- | ---------------------------------------- |\n",
        "| Preorder (recursive)  | O(n)            | O(h) = O(log n) to O(n) | Uses call stack, space depends on height |\n",
        "| Level-order (`deque`) | O(n)            | O(n)                    | Uses queue, space depends on width       |\n"
      ],
      "metadata": {
        "id": "ht63dYE2XOaf"
      }
    },
    {
      "cell_type": "code",
      "source": [
        "from collections import deque\n",
        "\n",
        "def print_tree_with_deque(root):\n",
        "    if not root:\n",
        "        print([])\n",
        "        return\n",
        "\n",
        "    result = []\n",
        "    queue = deque([root])  # start with root in the queue\n",
        "\n",
        "    while queue:\n",
        "        node = queue.popleft()  # fast O(1) removal from front\n",
        "        if node:\n",
        "            result.append(node.val)\n",
        "            queue.append(node.left)\n",
        "            queue.append(node.right)\n",
        "        else:\n",
        "            result.append(\"Null\")\n",
        "\n",
        "    # Optional: remove extra \"Null\" values from the end\n",
        "    while result and result[-1] == \"Null\":\n",
        "        result.pop()\n",
        "\n",
        "    print(result)\n",
        "\n"
      ],
      "metadata": {
        "id": "xiUIpG7KVw0P"
      },
      "execution_count": 18,
      "outputs": []
    },
    {
      "cell_type": "code",
      "source": [
        "root = TreeNode(22)\n",
        "root.left = TreeNode(7)\n",
        "root.right = TreeNode(5)\n",
        "root.left.left = TreeNode(1)\n",
        "root.left.right = TreeNode(3)\n",
        "root.right.right = TreeNode(9)"
      ],
      "metadata": {
        "id": "V8oNZeTwXfBL"
      },
      "execution_count": 19,
      "outputs": []
    },
    {
      "cell_type": "code",
      "source": [
        "print_tree_with_deque(root)"
      ],
      "metadata": {
        "colab": {
          "base_uri": "https://localhost:8080/"
        },
        "id": "0RBcBBngXjNe",
        "outputId": "1a9dac53-6b17-4254-96d0-01ca2d681dbf"
      },
      "execution_count": 20,
      "outputs": [
        {
          "output_type": "stream",
          "name": "stdout",
          "text": [
            "[22, 7, 5, 1, 3, 'Null', 9]\n"
          ]
        }
      ]
    }
  ]
}